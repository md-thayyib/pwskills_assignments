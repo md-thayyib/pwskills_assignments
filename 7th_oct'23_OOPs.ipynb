{
  "cells": [
    {
      "cell_type": "markdown",
      "id": "86b47d4f-860e-4702-83a0-0145887ab41a",
      "metadata": {
        "id": "86b47d4f-860e-4702-83a0-0145887ab41a"
      },
      "source": [
        "Problem 1: Bank Account Create a class representing a bank account with attributes like account number, account holder name, and balance. Implement methods to deposit and withdraw money from the account.\n",
        "\n",
        "Problem 2: Employee Management Create a class representing an employee with attributes like employee ID, name, and salary. Implement methods to calculate the yearly bonus and display employee details.\n",
        "\n",
        "Problem 3: Vehicle Rental Create a class representing a vehicle rental system. Implement methods to rent a vehicle, return a vehicle, and display available vehicles.\n",
        "\n",
        "Problem 4: Library Catalog Create classes representing a library and a book. Implement methods to add books to the library, borrow books, and display available books.\n",
        "\n",
        "Problem 5: Product Inventory Create classes representing a product and an inventory system. Implement methods to add products to the inventory, update product quantity, and display available products.\n",
        "\n",
        "Problem 6: Shape Calculation Create a class representing a shape with attributes like length, width, and height. Implement methods to calculate the area and perimeter of the shape.\n",
        "\n",
        "Problem 7: Student Management Create a class representing a student with attributes like student ID, name, and grades. Implement methods to calculate the average grade and display student details.\n",
        "\n",
        "Problem 8: Email Management Create a class representing an email with attributes like sender, recipient, and subject. Implement methods to send an email and display email details.\n",
        "\n",
        "Problem 9: Social Media Profile Create a class representing a social media profile with attributes like username and posts. Implement methods to add posts, display posts, and search for posts by keyword.\n",
        "\n",
        "Problem 10: ToDo List Create a class representing a ToDo list with attributes like tasks and due dates. Implement methods to add tasks, mark tasks as completed, and display pending tasks."
      ]
    },
    {
      "cell_type": "code",
      "source": [
        "class BankAccount:\n",
        "    def __init__(self,name,acc_number,balance):\n",
        "        self.name = name\n",
        "        self.acc_number = acc_number\n",
        "        self.balance = balance\n",
        "\n",
        "    def balance_amt(self):\n",
        "        return self.balance\n",
        "\n",
        "    def deposit(self,deposit_amt):\n",
        "        self.balance = self.balance+deposit_amt\n",
        "        return f\"You have deposited{deposit_amt} final balance is :{self.balance}\"\n",
        "\n",
        "    def withdraw(self,withdraw_amt):\n",
        "        self.balance = self.balance-withdraw_amt\n",
        "        return f\"You have withdrawn{withdraw_amt} and final balance is: {self.balance}\"\n"
      ],
      "metadata": {
        "id": "MZyPEsgWo9Zm"
      },
      "id": "MZyPEsgWo9Zm",
      "execution_count": null,
      "outputs": []
    },
    {
      "cell_type": "code",
      "source": [
        "thayyib = BankAccount('thayyib',12334,1000)"
      ],
      "metadata": {
        "id": "NSlmaQbNp-1r"
      },
      "id": "NSlmaQbNp-1r",
      "execution_count": null,
      "outputs": []
    },
    {
      "cell_type": "code",
      "source": [
        "thayyib.deposit(900)\n",
        "thayyib.withdraw(60)"
      ],
      "metadata": {
        "colab": {
          "base_uri": "https://localhost:8080/",
          "height": 35
        },
        "id": "M0DWEC_ZqdZy",
        "outputId": "68093215-7aaf-4cee-ec73-05b8ff198204"
      },
      "id": "M0DWEC_ZqdZy",
      "execution_count": null,
      "outputs": [
        {
          "output_type": "execute_result",
          "data": {
            "text/plain": [
              "'You have withdrawn60 and final balance is: 1840'"
            ],
            "application/vnd.google.colaboratory.intrinsic+json": {
              "type": "string"
            }
          },
          "metadata": {},
          "execution_count": 20
        }
      ]
    },
    {
      "cell_type": "code",
      "source": [
        "anees = BankAccount('anees',123,10)"
      ],
      "metadata": {
        "id": "lC_E-p-0qgdl"
      },
      "id": "lC_E-p-0qgdl",
      "execution_count": null,
      "outputs": []
    },
    {
      "cell_type": "code",
      "source": [
        "anees.deposit(89999)"
      ],
      "metadata": {
        "colab": {
          "base_uri": "https://localhost:8080/",
          "height": 35
        },
        "id": "EV1hGXnRrXAp",
        "outputId": "17534b42-8447-4855-87dd-396dc25d4af2"
      },
      "id": "EV1hGXnRrXAp",
      "execution_count": null,
      "outputs": [
        {
          "output_type": "execute_result",
          "data": {
            "text/plain": [
              "'You have deposited89999 final balance is :90009'"
            ],
            "application/vnd.google.colaboratory.intrinsic+json": {
              "type": "string"
            }
          },
          "metadata": {},
          "execution_count": 23
        }
      ]
    },
    {
      "cell_type": "code",
      "source": [
        "# Problem 2: Employee Management Create a class representing an employee with attributes like employee ID, name, and salary.\n",
        "#Implement methods to calculate the yearly bonus and display employee details.\n",
        "\n",
        "class Employee:\n",
        "    def __init__(self,id,name,salary):\n",
        "        self.id = id\n",
        "        self.name = name\n",
        "        self.salary = salary\n",
        "\n",
        "    def calculate_bonus(self):\n",
        "        bonus = self.salary*8.33/100\n",
        "        return bonus\n",
        "\n",
        "    def display_details(self):\n",
        "        print(f\"Employee name: {self.name}\")\n",
        "        print(f\"Employee id: {self.id}\")\n",
        "        print(f\"Salary: {self.salary}\")"
      ],
      "metadata": {
        "id": "ApqFqwn1rny-"
      },
      "id": "ApqFqwn1rny-",
      "execution_count": null,
      "outputs": []
    },
    {
      "cell_type": "code",
      "source": [
        "e1 = Employee(1,'Shaheer',50000)"
      ],
      "metadata": {
        "id": "HCcO9Q75s3yI"
      },
      "id": "HCcO9Q75s3yI",
      "execution_count": null,
      "outputs": []
    },
    {
      "cell_type": "code",
      "source": [
        "e1.calculate_bonus()"
      ],
      "metadata": {
        "colab": {
          "base_uri": "https://localhost:8080/"
        },
        "id": "s7roH7uBtOjx",
        "outputId": "c272407c-7baa-439c-9056-4b9f71dd9757"
      },
      "id": "s7roH7uBtOjx",
      "execution_count": null,
      "outputs": [
        {
          "output_type": "execute_result",
          "data": {
            "text/plain": [
              "4165.0"
            ]
          },
          "metadata": {},
          "execution_count": 13
        }
      ]
    },
    {
      "cell_type": "code",
      "source": [
        "# Problem 3: Vehicle Rental Create a class representing a vehicle rental system.\n",
        "# Implement methods to rent a vehicle, return a vehicle, and display available vehicles.\n",
        "\n",
        "class Vehicle:\n",
        "    def __init__(self,id,model,is_availble=True):\n",
        "        self.id = id\n",
        "        self.model = model\n",
        "        self.is_available = is_availble\n",
        "\n",
        "class RentalSystem:\n",
        "    def __init__(self):\n",
        "        self.vehicles = {}\n",
        "\n",
        "    def add_vehicle(self,id,model):\n",
        "        if id not in self.vehicles:\n",
        "            self.vehicles[id]=Vehicle(id,model)\n",
        "        else:\n",
        "            print(\"Vehicle is already added\")\n",
        "\n",
        "    def rent_vehicle(self,id):\n",
        "        if id in self.vehicles:\n",
        "            if self.vehicles[id].is_available:\n",
        "                self.vehicles[id].is_available = False\n",
        "                print(f\"Rent vehicle{self.vehicles[id].model} successfully\")\n",
        "            else:\n",
        "                print(\"Vehicle is not available\")\n",
        "        else:\n",
        "            print(\"Vehicle id is incorrect\")\n",
        "\n",
        "    def return_vehicle(self,id):\n",
        "        if id in self.vehicles:\n",
        "            if self.vehicles[id].is_available == False:\n",
        "                self.vehicles[id].is_available = True\n",
        "            else:\n",
        "                print(\"Wrong information\")\n",
        "        else:\n",
        "            print(\"wrong info\")\n",
        "\n",
        "    def display_availabity(self):\n",
        "            for id,name in self.vehicles.items():\n",
        "                if self.vehicles[id].is_available:\n",
        "                    print(id,self.vehicles[id].model)\n"
      ],
      "metadata": {
        "id": "eTJyGgGmHFGH"
      },
      "id": "eTJyGgGmHFGH",
      "execution_count": null,
      "outputs": []
    },
    {
      "cell_type": "code",
      "source": [
        "rental_sys = RentalSystem()"
      ],
      "metadata": {
        "id": "nmsXzeIgKDgz"
      },
      "id": "nmsXzeIgKDgz",
      "execution_count": null,
      "outputs": []
    },
    {
      "cell_type": "code",
      "source": [
        "rental_sys.add_vehicle(1,\"Swift\")"
      ],
      "metadata": {
        "id": "hjKuLjs1cyGF"
      },
      "id": "hjKuLjs1cyGF",
      "execution_count": null,
      "outputs": []
    },
    {
      "cell_type": "code",
      "source": [
        "rental_sys.add_vehicle(2,\"Corolla altis\")"
      ],
      "metadata": {
        "id": "OnJxUUjDc5bN"
      },
      "id": "OnJxUUjDc5bN",
      "execution_count": null,
      "outputs": []
    },
    {
      "cell_type": "code",
      "source": [
        "rental_sys.display_availabity()"
      ],
      "metadata": {
        "colab": {
          "base_uri": "https://localhost:8080/"
        },
        "id": "uc6IfHSbdG58",
        "outputId": "6409aecd-bc76-4e58-fddc-7a9047e59cd5"
      },
      "id": "uc6IfHSbdG58",
      "execution_count": null,
      "outputs": [
        {
          "output_type": "stream",
          "name": "stdout",
          "text": [
            "2 Corolla altis\n",
            "3 WagonR\n"
          ]
        }
      ]
    },
    {
      "cell_type": "code",
      "source": [
        "rental_sys.add_vehicle(3,\"WagonR\")"
      ],
      "metadata": {
        "id": "qJqpWjDMdXKL"
      },
      "id": "qJqpWjDMdXKL",
      "execution_count": null,
      "outputs": []
    },
    {
      "cell_type": "code",
      "source": [
        "rental_sys.rent_vehicle(1)"
      ],
      "metadata": {
        "colab": {
          "base_uri": "https://localhost:8080/"
        },
        "id": "Yf-dt_ose-NB",
        "outputId": "72901535-7b25-4977-cbb2-d0d26cf9d9f7"
      },
      "id": "Yf-dt_ose-NB",
      "execution_count": null,
      "outputs": [
        {
          "output_type": "stream",
          "name": "stdout",
          "text": [
            "Rent vehicleSwift successfully\n"
          ]
        }
      ]
    },
    {
      "cell_type": "code",
      "source": [
        "#Problem 4: Library Catalog Create classes representing a library and a book.\n",
        "#Implement methods to add books to the library, borrow books, and display available books.\n",
        "\n",
        "\n",
        "class Books:\n",
        "    def __init__(self,id,title,author,is_available = True):\n",
        "        self.id = id\n",
        "        self.title = title\n",
        "        self.author = author\n",
        "        self.is_available = is_available\n",
        "\n",
        "class Libarary:\n",
        "    def __init__(self):\n",
        "        self.books = {}\n",
        "\n",
        "    def add_books(self,id,title,author):\n",
        "        if id not in self.books:\n",
        "            self.books[id] = Books(id,title,author)\n",
        "            print(\"Book added to library\")\n",
        "        else:\n",
        "            print(\"Book is already present\")\n",
        "\n",
        "    def borrow_book(self,id):\n",
        "        if self.books[id].is_available:\n",
        "            self.books[id].is_available = False\n",
        "            print(\"Borrowed\")\n",
        "        else:\n",
        "            print(\"Invalid id\")\n",
        "\n",
        "    def return_book(self,id):\n",
        "        if not self.books[id].is_available:\n",
        "            self.books[id].is_available = True\n",
        "            print(\"Return succussfully\")\n",
        "\n",
        "    def display_books(self):\n",
        "        for id,obj in self.books.items():\n",
        "            print(id,self.books[id].title,self.books[id].author,self.books[id].is_available)\n",
        "\n",
        "\n",
        "\n",
        "\n"
      ],
      "metadata": {
        "id": "Tg-EgdmQgo0P"
      },
      "id": "Tg-EgdmQgo0P",
      "execution_count": null,
      "outputs": []
    },
    {
      "cell_type": "code",
      "source": [
        "library = Libarary()"
      ],
      "metadata": {
        "id": "Z1Y98kcasAKC"
      },
      "id": "Z1Y98kcasAKC",
      "execution_count": null,
      "outputs": []
    },
    {
      "cell_type": "code",
      "source": [
        "library.add_books(1,'Malcomx','Alex haley')\n",
        "library.add_books(2,'Love','Kanaran')"
      ],
      "metadata": {
        "colab": {
          "base_uri": "https://localhost:8080/"
        },
        "id": "SAH1XdF8sH9I",
        "outputId": "549232fd-3725-4da0-c843-21a9e50caf73"
      },
      "id": "SAH1XdF8sH9I",
      "execution_count": null,
      "outputs": [
        {
          "output_type": "stream",
          "name": "stdout",
          "text": [
            "Book added to library\n",
            "Book added to library\n"
          ]
        }
      ]
    },
    {
      "cell_type": "code",
      "source": [
        "library.borrow_book(2)"
      ],
      "metadata": {
        "colab": {
          "base_uri": "https://localhost:8080/"
        },
        "id": "1nl5MCPXsv1W",
        "outputId": "50cfe218-8f68-42fa-8e58-c998eb35d33e"
      },
      "id": "1nl5MCPXsv1W",
      "execution_count": null,
      "outputs": [
        {
          "output_type": "stream",
          "name": "stdout",
          "text": [
            "Borrowed\n"
          ]
        }
      ]
    },
    {
      "cell_type": "code",
      "source": [
        "library.display_books()"
      ],
      "metadata": {
        "colab": {
          "base_uri": "https://localhost:8080/"
        },
        "id": "y4l56184sOBT",
        "outputId": "f9c00554-2af7-464a-fbea-94ebe5364e51"
      },
      "id": "y4l56184sOBT",
      "execution_count": null,
      "outputs": [
        {
          "output_type": "stream",
          "name": "stdout",
          "text": [
            "1 Malcomx Alex haley True\n",
            "2 Love Kanaran False\n"
          ]
        }
      ]
    },
    {
      "cell_type": "code",
      "source": [
        "# Problem 5: Product Inventory Create classes representing a product and an inventory system. Implement\n",
        "# methods to add products to the inventory, update product quantity, and display available products\n",
        "\n",
        "class Product:\n",
        "    def __init__(self,product_id,product_name,quantity = 0):\n",
        "        self.product_id = product_id\n",
        "        self.product_name = product_name\n",
        "        self.quantity = quantity\n",
        "\n",
        "    def product_details(self):\n",
        "        print(f\"ID{self.product_id}\")\n",
        "        print(f\"Name {self.pro}\")\n",
        "\n",
        "class Inventory:\n",
        "    def __init__(self):\n",
        "        self.collection ={}\n",
        "\n",
        "    def add_update_product(self,product_id,product_name,quantity):\n",
        "        if product_id in self.collection:\n",
        "            self.collection[product_id].quantity +=quantity\n",
        "        else:\n",
        "            self.collection[id] = Product(product_id,product_name,quantity)\n",
        "            print(\"Product added successfully\")\n",
        "\n",
        "    def display_availabity(self):\n",
        "        for id,obj in self.collection.items():\n",
        "            if self.collection[id].quantity > 0:\n",
        "                print(f\"{self.collection[id].product_name} quantity:{self.collection[id].quantity}\")\n",
        "            else:\n",
        "                print(\"The product is out of stock\")\n",
        "\n"
      ],
      "metadata": {
        "id": "Igd0oJEZsSow"
      },
      "id": "Igd0oJEZsSow",
      "execution_count": null,
      "outputs": []
    },
    {
      "cell_type": "code",
      "source": [
        "inventory1 = Inventory()"
      ],
      "metadata": {
        "id": "S4sgmVsRuSuc"
      },
      "id": "S4sgmVsRuSuc",
      "execution_count": null,
      "outputs": []
    },
    {
      "cell_type": "code",
      "source": [
        "inventory1.add_update_product(1,'Steel plate',9)"
      ],
      "metadata": {
        "colab": {
          "base_uri": "https://localhost:8080/"
        },
        "id": "8hpj-3qZxeAC",
        "outputId": "3eb38a65-831b-456a-9e15-e4588c80b7ca"
      },
      "id": "8hpj-3qZxeAC",
      "execution_count": null,
      "outputs": [
        {
          "output_type": "stream",
          "name": "stdout",
          "text": [
            "Product added successfully\n"
          ]
        }
      ]
    },
    {
      "cell_type": "code",
      "source": [
        "inventory1.display_availabity()"
      ],
      "metadata": {
        "colab": {
          "base_uri": "https://localhost:8080/"
        },
        "id": "znyFO34CxlKd",
        "outputId": "ec543ff2-f62b-46d2-a58c-05f76756ae8b"
      },
      "id": "znyFO34CxlKd",
      "execution_count": null,
      "outputs": [
        {
          "output_type": "stream",
          "name": "stdout",
          "text": [
            "Steel plate quantity:9\n"
          ]
        }
      ]
    },
    {
      "cell_type": "code",
      "source": [
        "# Problem 6: Shape Calculation Create a class representing a shape with attributes like length, width, and height.\n",
        "# Implement methods to calculate the area and perimeter of the shape.\n",
        "\n",
        "class Shape:\n",
        "    def __init__(self,length = None,height = None,width = None,base =None, side1 = None, side2 = None):\n",
        "        self.length = length\n",
        "        self.height = height\n",
        "        self.width = width\n",
        "        self.base = base\n",
        "        self.side1 = side1\n",
        "        self.side2 = side2\n",
        "\n",
        "    def area(self):\n",
        "        raise NotImplementedError(\"Implement in the child class\")\n",
        "\n",
        "    def perimeter(self):\n",
        "        raise NotImplementedError(\"implemetnt in the child class\")\n",
        "\n",
        "class Rectangle(Shape):\n",
        "\n",
        "    def area(self):\n",
        "        return self.length*self.width\n",
        "\n",
        "    def perimeter(self):\n",
        "        return 2*(self.length+self.width)\n",
        "\n",
        "class Triangle(Shape):\n",
        "    def area(self):\n",
        "        return .5*self.base*self.side1\n",
        "\n",
        "    def perimeter(self):\n",
        "        return (self.side1+self.side2+self.base)"
      ],
      "metadata": {
        "id": "lHsgJLI3xpWK"
      },
      "id": "lHsgJLI3xpWK",
      "execution_count": null,
      "outputs": []
    },
    {
      "cell_type": "code",
      "source": [
        "triangle = Triangle(base = 56,side1=5,side2=9)\n",
        "triangle.area()"
      ],
      "metadata": {
        "colab": {
          "base_uri": "https://localhost:8080/"
        },
        "id": "GGdxKVyCGBmZ",
        "outputId": "781aa8b6-4ae9-4f2e-a7c6-9dcc25fe2349"
      },
      "id": "GGdxKVyCGBmZ",
      "execution_count": null,
      "outputs": [
        {
          "output_type": "execute_result",
          "data": {
            "text/plain": [
              "140.0"
            ]
          },
          "metadata": {},
          "execution_count": 242
        }
      ]
    },
    {
      "cell_type": "code",
      "source": [
        "rectangle = Rectangle(length = 4,width = 3,height = 9)\n",
        "rectangle.perimeter()\n",
        "rectangle.area()"
      ],
      "metadata": {
        "colab": {
          "base_uri": "https://localhost:8080/"
        },
        "id": "QTxL0HJyGR2u",
        "outputId": "f968bee8-de7d-46e9-e781-df450f91a461"
      },
      "id": "QTxL0HJyGR2u",
      "execution_count": null,
      "outputs": [
        {
          "output_type": "execute_result",
          "data": {
            "text/plain": [
              "12"
            ]
          },
          "metadata": {},
          "execution_count": 245
        }
      ]
    },
    {
      "cell_type": "code",
      "source": [
        "# Problem 7: Student Management Create a class representing a student with attributes like student ID, name, and grades.\n",
        "# Implement methods to calculate the average grade and display student details.\n",
        "\n",
        "\n",
        "class Student:\n",
        "    def __init__(self,student_id,name,**grades):\n",
        "        self.student_id = student_id\n",
        "        self.name = name\n",
        "        self.grades = grades\n",
        "\n",
        "    def average(self):\n",
        "        return sum(self.grades.values())/len(self.grades.values())\n",
        "\n",
        "    def details(self):\n",
        "        print(self.student_id)\n",
        "        print(self.name)\n",
        "        print(self.grades)\n",
        "\n",
        "s1 = Student(1,'thayyib',phy=23,chem=34,bio=43)"
      ],
      "metadata": {
        "id": "Ycw79aysHsak"
      },
      "id": "Ycw79aysHsak",
      "execution_count": null,
      "outputs": []
    },
    {
      "cell_type": "code",
      "source": [
        "s1.details()\n",
        "s1.average()"
      ],
      "metadata": {
        "colab": {
          "base_uri": "https://localhost:8080/"
        },
        "id": "RWjz101HImqV",
        "outputId": "60862c08-6e5a-48d0-8b22-e0b0ddfee112"
      },
      "id": "RWjz101HImqV",
      "execution_count": null,
      "outputs": [
        {
          "output_type": "stream",
          "name": "stdout",
          "text": [
            "1\n",
            "thayyib\n",
            "{'phy': 23, 'chem': 34, 'bio': 43}\n"
          ]
        },
        {
          "output_type": "execute_result",
          "data": {
            "text/plain": [
              "33.333333333333336"
            ]
          },
          "metadata": {},
          "execution_count": 274
        }
      ]
    },
    {
      "cell_type": "code",
      "source": [
        "# prompt: Problem 8: Email Management Create a class representing an email with attributes like sender, recipient, and subject.\n",
        "# Implement methods to send an email and display email details.\n",
        "\n",
        "\n",
        "class Email:\n",
        "    def __init__(self,sender,reciepient,subject,body,send_status =False):\n",
        "        self.sender = sender\n",
        "        self.reciepient = reciepient\n",
        "        self.subject= subject\n",
        "        self.body = body\n",
        "        self.send_status = send_status\n",
        "\n",
        "    def send(self):\n",
        "        if self.send_status:\n",
        "            print(\"This email is already sent\")\n",
        "        else:\n",
        "            self.send_status = True\n",
        "            print(\"Email has been send \")\n",
        "\n",
        "    def details(self):\n",
        "        print(self.sender)\n",
        "        print(self.reciepient)\n",
        "        print(self.subject)\n",
        "        print(self.body)\n",
        "        print(self.send_status)\n"
      ],
      "metadata": {
        "id": "IZTYpglkLA70"
      },
      "id": "IZTYpglkLA70",
      "execution_count": null,
      "outputs": []
    },
    {
      "cell_type": "code",
      "source": [
        "\n",
        "email1 = Email('Thayyib','Jamal','No subject','Sugalle')"
      ],
      "metadata": {
        "id": "lHkf_858LA-S"
      },
      "id": "lHkf_858LA-S",
      "execution_count": null,
      "outputs": []
    },
    {
      "cell_type": "code",
      "source": [
        "email1.send()\n",
        "email1.details()"
      ],
      "metadata": {
        "colab": {
          "base_uri": "https://localhost:8080/"
        },
        "id": "z0rAguw9MhcR",
        "outputId": "da6eb66b-1b1a-43c8-9871-65924192fa4e"
      },
      "id": "z0rAguw9MhcR",
      "execution_count": null,
      "outputs": [
        {
          "output_type": "stream",
          "name": "stdout",
          "text": [
            "Email has been send \n",
            "Thayyib\n",
            "Jamal\n",
            "No subject\n",
            "Sugalle\n",
            "True\n"
          ]
        }
      ]
    },
    {
      "cell_type": "code",
      "source": [
        "email1.send()"
      ],
      "metadata": {
        "colab": {
          "base_uri": "https://localhost:8080/"
        },
        "id": "LKtmN5GFNhVq",
        "outputId": "4c7d484f-144d-4bd7-af7d-2cd7b0fb1c81"
      },
      "id": "LKtmN5GFNhVq",
      "execution_count": null,
      "outputs": [
        {
          "output_type": "stream",
          "name": "stdout",
          "text": [
            "This email is already sent\n"
          ]
        }
      ]
    },
    {
      "cell_type": "code",
      "source": [
        "# Problem 9: Social Media Profile Create a class representing a social media profile with attributes like username and posts.\n",
        "# Implement methods to add posts, display posts, and search for posts by keyword."
      ],
      "metadata": {
        "id": "gbRKGqQiNnwc"
      },
      "id": "gbRKGqQiNnwc",
      "execution_count": null,
      "outputs": []
    },
    {
      "cell_type": "code",
      "source": [
        "class Profile:\n",
        "    def __init__(self,username,status = True):\n",
        "        self.username = username\n",
        "        self.status = status\n",
        "        self.posts = []\n",
        "\n",
        "    def add_post(self,post):\n",
        "        self.posts.append(post)\n",
        "\n",
        "    def display(self):\n",
        "        for index,post in enumerate(self.posts,start =1):\n",
        "            print(index,post)\n",
        "\n",
        "    def search(self,keyword):\n",
        "        matching_post = []\n",
        "        for post in self.posts:\n",
        "            if keyword in post:\n",
        "                matching_post.append(post)\n",
        "        for index,post in enumerate(matching_post,start = 101):\n",
        "            print(index, post)"
      ],
      "metadata": {
        "id": "8xdJJjEZNnzH"
      },
      "id": "8xdJJjEZNnzH",
      "execution_count": null,
      "outputs": []
    },
    {
      "cell_type": "code",
      "source": [
        "profile1 = Profile('thayyib')"
      ],
      "metadata": {
        "id": "U2-381P8PLSl"
      },
      "id": "U2-381P8PLSl",
      "execution_count": null,
      "outputs": []
    },
    {
      "cell_type": "code",
      "source": [
        "profile1.add_post(\"Humming birds in kashmir\")"
      ],
      "metadata": {
        "id": "O3HHGe6mPRDU"
      },
      "id": "O3HHGe6mPRDU",
      "execution_count": null,
      "outputs": []
    },
    {
      "cell_type": "code",
      "source": [
        "profile1.add_post(\"Kerala civil service exam data is announced\")\n",
        "profile1.add_post(\"JEE exam postponed\")"
      ],
      "metadata": {
        "id": "MNnq9U9gPeAN"
      },
      "id": "MNnq9U9gPeAN",
      "execution_count": null,
      "outputs": []
    },
    {
      "cell_type": "markdown",
      "source": [],
      "metadata": {
        "id": "XKptfa6L7vj0"
      },
      "id": "XKptfa6L7vj0"
    },
    {
      "cell_type": "code",
      "source": [
        "profile1.display()"
      ],
      "metadata": {
        "colab": {
          "base_uri": "https://localhost:8080/"
        },
        "id": "XpHVSzbmPYpx",
        "outputId": "c80dac04-8b7f-4747-da4f-82e0e17679c1"
      },
      "id": "XpHVSzbmPYpx",
      "execution_count": null,
      "outputs": [
        {
          "output_type": "stream",
          "name": "stdout",
          "text": [
            "1 Humming birds in kashmir\n",
            "2 Kerala civil service exam data is announced\n",
            "3 Kerala civil service exam data is announced\n",
            "4 JEE exam postponed\n"
          ]
        }
      ]
    },
    {
      "cell_type": "code",
      "source": [
        "profile1.search('exam')"
      ],
      "metadata": {
        "colab": {
          "base_uri": "https://localhost:8080/"
        },
        "id": "Zp1b-cVMPbCh",
        "outputId": "a051ba6b-a757-4dd9-8a46-8a26eedde9fd"
      },
      "id": "Zp1b-cVMPbCh",
      "execution_count": null,
      "outputs": [
        {
          "output_type": "stream",
          "name": "stdout",
          "text": [
            "101 Kerala civil service exam data is announced\n",
            "102 Kerala civil service exam data is announced\n",
            "103 JEE exam postponed\n"
          ]
        }
      ]
    },
    {
      "cell_type": "code",
      "source": [
        "# Problem 10: ToDo List Create a class representing a ToDo list with attributes like tasks and due dates.\n",
        "# Implement methods to add tasks, mark tasks as completed, and display pending tasks.\n",
        "import datetime\n",
        "class ToDo:\n",
        "    def __init__(self):\n",
        "        self.tasks = []\n",
        "\n",
        "\n",
        "    def add_task(self,task,due_date):\n",
        "        self.tasks.append({'task':task,'due_date':due_date,'completed':False})\n",
        "\n",
        "    def complete_task(self,task_index):\n",
        "        if task_index>=0:\n",
        "            self.tasks[task_index]['completed'] = True\n",
        "            print(\"Task status changed to complete\")\n",
        "        else:\n",
        "            print(\"Task is already completed\")\n",
        "\n",
        "    def list_tak(self):\n",
        "        for index,item in enumerate(self.tasks,start=1):\n",
        "            print(index,item)\n",
        ""
      ],
      "metadata": {
        "id": "o5I-93v4PtUm"
      },
      "id": "o5I-93v4PtUm",
      "execution_count": 45,
      "outputs": []
    },
    {
      "cell_type": "code",
      "source": [
        "todo = ToDo()"
      ],
      "metadata": {
        "id": "itPLSa5qSZx9"
      },
      "id": "itPLSa5qSZx9",
      "execution_count": 46,
      "outputs": []
    },
    {
      "cell_type": "code",
      "source": [
        "todo.add_task('Read book malcom x','2022/Jan/10')\n",
        "todo.add_task('Hello','22024/Jan/23')"
      ],
      "metadata": {
        "id": "Vxxa97wJe040"
      },
      "id": "Vxxa97wJe040",
      "execution_count": 47,
      "outputs": []
    },
    {
      "cell_type": "code",
      "source": [
        "todo.list_tak()"
      ],
      "metadata": {
        "colab": {
          "base_uri": "https://localhost:8080/"
        },
        "id": "SiqbxWsye78V",
        "outputId": "e2e3c2dd-c108-415d-e486-1afd6d534518"
      },
      "id": "SiqbxWsye78V",
      "execution_count": 50,
      "outputs": [
        {
          "output_type": "stream",
          "name": "stdout",
          "text": [
            "1 {'task': 'Read book malcom x', 'due_date': '2022/Jan/10', 'completed': False}\n",
            "2 {'task': 'Hello', 'due_date': '22024/Jan/23', 'completed': True}\n"
          ]
        }
      ]
    },
    {
      "cell_type": "code",
      "source": [
        "todo.complete_task(1)"
      ],
      "metadata": {
        "colab": {
          "base_uri": "https://localhost:8080/"
        },
        "id": "QMHY--LgfGh1",
        "outputId": "07838bda-5b3e-4b95-fdae-726aa9e30f4c"
      },
      "id": "QMHY--LgfGh1",
      "execution_count": 49,
      "outputs": [
        {
          "output_type": "stream",
          "name": "stdout",
          "text": [
            "Task status changed to complete\n"
          ]
        }
      ]
    },
    {
      "cell_type": "code",
      "source": [],
      "metadata": {
        "id": "GWozF_alf_TR"
      },
      "id": "GWozF_alf_TR",
      "execution_count": null,
      "outputs": []
    }
  ],
  "metadata": {
    "kernelspec": {
      "display_name": "Python 3 (ipykernel)",
      "language": "python",
      "name": "python3"
    },
    "language_info": {
      "codemirror_mode": {
        "name": "ipython",
        "version": 3
      },
      "file_extension": ".py",
      "mimetype": "text/x-python",
      "name": "python",
      "nbconvert_exporter": "python",
      "pygments_lexer": "ipython3",
      "version": "3.10.8"
    },
    "colab": {
      "provenance": []
    }
  },
  "nbformat": 4,
  "nbformat_minor": 5
}