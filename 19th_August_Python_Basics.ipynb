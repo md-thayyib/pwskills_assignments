{
 "cells": [
  {
   "cell_type": "markdown",
   "id": "557fc094-3415-4f5f-8185-49a628155a37",
   "metadata": {},
   "source": [
    "## TOPIC: Python Basics Variable"
   ]
  },
  {
   "cell_type": "markdown",
   "id": "d545f6fd-a2d3-4471-9a08-25b90e2abc56",
   "metadata": {},
   "source": [
    "### Question 1\n",
    "Declare two variables, `x` and `y`, and assign them integer values. Swap the\n",
    "values of these variables without using any temporary variable."
   ]
  },
  {
   "cell_type": "code",
   "execution_count": 4,
   "id": "e808fa25-b6de-44a4-a61e-454f4c542573",
   "metadata": {},
   "outputs": [],
   "source": [
    "# Giving values to x and y\n",
    "x,y = 45,67"
   ]
  },
  {
   "cell_type": "code",
   "execution_count": 5,
   "id": "9fd28289-47d2-45cb-9f1b-25e7fde3960e",
   "metadata": {},
   "outputs": [
    {
     "name": "stdout",
     "output_type": "stream",
     "text": [
      "x =  45 y = 67\n"
     ]
    }
   ],
   "source": [
    "print('x = ',x ,'y =',y)"
   ]
  },
  {
   "cell_type": "code",
   "execution_count": 6,
   "id": "984b250c-4983-419b-b56c-c31084e2e620",
   "metadata": {},
   "outputs": [],
   "source": [
    "#swapping\n",
    "x,y = y,x"
   ]
  },
  {
   "cell_type": "code",
   "execution_count": 8,
   "id": "01344ad5-a547-49c1-b1e2-dabc4a96d80b",
   "metadata": {},
   "outputs": [
    {
     "name": "stdout",
     "output_type": "stream",
     "text": [
      "x =  67 y =  45\n"
     ]
    }
   ],
   "source": [
    "print('x = ',x,'y = ',y)"
   ]
  },
  {
   "cell_type": "code",
   "execution_count": null,
   "id": "400ac681-cf2b-42d5-a005-78d415c48a91",
   "metadata": {},
   "outputs": [],
   "source": []
  },
  {
   "cell_type": "markdown",
   "id": "8557270a-e5da-403a-add5-115b16f5249b",
   "metadata": {},
   "source": [
    "### Question 2\n",
    "\n",
    "Create a program that calculates the area of a rectangle. Take the length and\n",
    "width as inputs from the user and store them in variables. Calculate and\n",
    "display the area.\n"
   ]
  },
  {
   "cell_type": "code",
   "execution_count": 10,
   "id": "51ca5243-a39b-4314-96a5-70a116c3d94b",
   "metadata": {},
   "outputs": [
    {
     "name": "stdin",
     "output_type": "stream",
     "text": [
      "Enter the length 23\n",
      "Enter the width 12\n"
     ]
    },
    {
     "name": "stdout",
     "output_type": "stream",
     "text": [
      "Area of the rectangle is  276\n"
     ]
    }
   ],
   "source": [
    "length = int(input(\"Enter the length\"))\n",
    "width = int(input(\"Enter the width\"))\n",
    "\n",
    "area = length * width\n",
    "print('Area of the rectangle is ',area)"
   ]
  },
  {
   "cell_type": "code",
   "execution_count": null,
   "id": "598fdddf-f2a0-44fa-b2be-7d270f96e88d",
   "metadata": {},
   "outputs": [],
   "source": []
  },
  {
   "cell_type": "markdown",
   "id": "550bb060-a239-4f9b-829b-b55a148c7e8d",
   "metadata": {},
   "source": [
    "### Question 3\n",
    "\n",
    "Write a Python program that converts temperatures from Celsius to\n",
    "Fahrenheit. Take the temperature in Celsius as input, store it in a variable,\n",
    "convert it to Fahrenheit, and display the result."
   ]
  },
  {
   "cell_type": "code",
   "execution_count": 14,
   "id": "244885ec-a57d-4b8e-a7b1-280086ceec45",
   "metadata": {},
   "outputs": [
    {
     "name": "stdin",
     "output_type": "stream",
     "text": [
      "Enter the temperature in celsius 2\n"
     ]
    },
    {
     "name": "stdout",
     "output_type": "stream",
     "text": [
      "Temperature in Fahrenheit =  35.6\n"
     ]
    }
   ],
   "source": [
    "tc = float(input(\"Enter the temperature in celsius\"))\n",
    "tf = 32 + tc*9/5\n",
    "print(\"Temperature in Fahrenheit = \",tf)"
   ]
  },
  {
   "cell_type": "code",
   "execution_count": null,
   "id": "496085ac-4166-4702-b1ec-e5e4013bda37",
   "metadata": {},
   "outputs": [],
   "source": []
  },
  {
   "cell_type": "markdown",
   "id": "5cf81987-f1fc-48a2-b9c6-2fe774e3129c",
   "metadata": {},
   "source": [
    "## TOPIC: String Based Questions"
   ]
  },
  {
   "cell_type": "markdown",
   "id": "234f3760-9820-4990-8c56-e25051ce28fd",
   "metadata": {},
   "source": [
    "### Question 1. \n",
    "\n",
    "Write a Python program that takes a string as input and prints the length of the string."
   ]
  },
  {
   "cell_type": "code",
   "execution_count": 17,
   "id": "90a314f0-4a70-49df-8a60-fe94701b4e4e",
   "metadata": {},
   "outputs": [
    {
     "name": "stdin",
     "output_type": "stream",
     "text": [
      "Enter a string hello\n"
     ]
    },
    {
     "name": "stdout",
     "output_type": "stream",
     "text": [
      "Length of the entered string is  5\n"
     ]
    }
   ],
   "source": [
    "string1 = input(\"Enter a string\")\n",
    "length = len(string1)\n",
    "print(\"Length of the entered string is \",length)"
   ]
  },
  {
   "cell_type": "markdown",
   "id": "a706e225-36f3-4e5f-8dc4-52ac7d88d475",
   "metadata": {},
   "source": [
    "### Question 2\n",
    "\n",
    "Create a program that takes a sentence from the user and counts the number\n",
    "of vowels (a, e, i, o, u) in the string."
   ]
  },
  {
   "cell_type": "code",
   "execution_count": 23,
   "id": "f3347b08-4681-4c63-bc95-d9bb4e36e28f",
   "metadata": {},
   "outputs": [
    {
     "name": "stdin",
     "output_type": "stream",
     "text": [
      "Enter a sentence hello how are you, hope you are fine there. Do you have any thing to say\n"
     ]
    },
    {
     "name": "stdout",
     "output_type": "stream",
     "text": [
      "a = 5 e = 8 i =  2 o = 8 u = 3\n"
     ]
    }
   ],
   "source": [
    "sent1 = input(\"Enter a sentence\")\n",
    "a = sent1.count('a')\n",
    "e = sent1.count('e')\n",
    "i = sent1.count('i')\n",
    "o = sent1.count('o')\n",
    "u = sent1.count('u')\n",
    "\n",
    "print('a =',a, 'e =',e, 'i = ',i,'o =',o,'u =',u)"
   ]
  },
  {
   "cell_type": "markdown",
   "id": "5164a31a-ad4c-4580-be2e-9a8643bd7127",
   "metadata": {},
   "source": [
    "### Question 3\n",
    "\n",
    "Given a string, reverse the order of characters using string slicing and print\n",
    "the reversed string."
   ]
  },
  {
   "cell_type": "code",
   "execution_count": 24,
   "id": "3120c82e-9444-4640-a0dd-1a0e6f3a3839",
   "metadata": {},
   "outputs": [
    {
     "name": "stdin",
     "output_type": "stream",
     "text": [
      "Enter a string english\n"
     ]
    },
    {
     "name": "stdout",
     "output_type": "stream",
     "text": [
      "hsilgne\n"
     ]
    }
   ],
   "source": [
    "string2 = input(\"Enter a string\")\n",
    "str_rev = string2[::-1]\n",
    "print(str_rev)"
   ]
  },
  {
   "cell_type": "markdown",
   "id": "72f8bde1-d88b-4fc3-80a4-a8ce2634e806",
   "metadata": {},
   "source": [
    "### Question 4\n",
    "\n",
    "Write a program that takes a string as input and checks if it is a palindrome\n",
    "(reads the same forwards and backwards)."
   ]
  },
  {
   "cell_type": "code",
   "execution_count": 28,
   "id": "f96d64f6-32eb-4631-9e47-ef587b11c004",
   "metadata": {},
   "outputs": [
    {
     "name": "stdin",
     "output_type": "stream",
     "text": [
      "Enter a string malayalam\n"
     ]
    },
    {
     "name": "stdout",
     "output_type": "stream",
     "text": [
      "The given string is palindrome\n"
     ]
    }
   ],
   "source": [
    "string3 = input(\"Enter a string\")\n",
    "str_rev = string3[::-1]\n",
    "if str_rev == string3:\n",
    "    print(\"The given string is palindrome\")\n",
    "else:\n",
    "    print(\"Not palindrome\")"
   ]
  },
  {
   "cell_type": "markdown",
   "id": "83fe48e1-d7f9-4922-b797-a049d8e3df35",
   "metadata": {},
   "source": [
    "### Question 5\n",
    "\n",
    "Create a program that takes a string as input and removes all the spaces from\n",
    "it. Print the modified string without spaces."
   ]
  },
  {
   "cell_type": "code",
   "execution_count": 30,
   "id": "9314e90b-3652-4733-9e09-7b5db25d9505",
   "metadata": {},
   "outputs": [
    {
     "name": "stdin",
     "output_type": "stream",
     "text": [
      "Enter a stirng     malayalam.   \n"
     ]
    },
    {
     "name": "stdout",
     "output_type": "stream",
     "text": [
      "malayalam.\n"
     ]
    }
   ],
   "source": [
    "string4 = input(\"Enter a stirng\")\n",
    "print(string4.strip())"
   ]
  },
  {
   "cell_type": "code",
   "execution_count": null,
   "id": "f04e6152-2f6c-4708-8406-c3abacee63dc",
   "metadata": {},
   "outputs": [],
   "source": []
  }
 ],
 "metadata": {
  "kernelspec": {
   "display_name": "Python 3 (ipykernel)",
   "language": "python",
   "name": "python3"
  },
  "language_info": {
   "codemirror_mode": {
    "name": "ipython",
    "version": 3
   },
   "file_extension": ".py",
   "mimetype": "text/x-python",
   "name": "python",
   "nbconvert_exporter": "python",
   "pygments_lexer": "ipython3",
   "version": "3.10.8"
  }
 },
 "nbformat": 4,
 "nbformat_minor": 5
}
